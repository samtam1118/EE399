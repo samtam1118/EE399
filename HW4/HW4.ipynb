{
  "cells": [
    {
      "cell_type": "markdown",
      "source": [
        "##EE 399\n",
        "##Sam Tam\n",
        "##5/5/23\n",
        "##HW 4\n"
      ],
      "metadata": {
        "id": "jpm2f-i8Mbrg"
      }
    },
    {
      "cell_type": "code",
      "execution_count": 27,
      "metadata": {
        "id": "FV7LCnImz5Vm"
      },
      "outputs": [],
      "source": [
        "import numpy as np\n",
        "import torch\n",
        "import torch.nn as nn\n",
        "from torchvision.datasets import MNIST\n",
        "from sklearn.decomposition import PCA\n",
        "import torch.optim as optim\n",
        "from torch.utils.data import DataLoader\n",
        "from sklearn.tree import DecisionTreeClassifier\n",
        "from sklearn.svm import SVC\n",
        "from sklearn.metrics import accuracy_score\n",
        "import torch.nn.functional as F\n",
        "import torchvision.transforms as transforms\n",
        "import matplotlib.pyplot as plt"
      ]
    },
    {
      "cell_type": "markdown",
      "metadata": {
        "id": "da1avwnkVj6f"
      },
      "source": [
        "# **Part I**"
      ]
    },
    {
      "cell_type": "markdown",
      "metadata": {
        "id": "8vJPjQidVrjn"
      },
      "source": [
        "## **Part i**"
      ]
    },
    {
      "cell_type": "code",
      "execution_count": 36,
      "metadata": {
        "colab": {
          "base_uri": "https://localhost:8080/"
        },
        "id": "HFrFmNQO0Y6m",
        "outputId": "21a900ff-2893-47a8-a679-5e7b0c480c6d"
      },
      "outputs": [
        {
          "output_type": "stream",
          "name": "stdout",
          "text": [
            "Epoch [100/1000], Loss: 131.0033\n",
            "Epoch [200/1000], Loss: 4.7474\n",
            "Epoch [300/1000], Loss: 4.7368\n",
            "Epoch [400/1000], Loss: 4.7272\n",
            "Epoch [500/1000], Loss: 4.7161\n",
            "Epoch [600/1000], Loss: 4.7036\n",
            "Epoch [700/1000], Loss: 4.6898\n",
            "Epoch [800/1000], Loss: 4.6752\n",
            "Epoch [900/1000], Loss: 4.6602\n",
            "Epoch [1000/1000], Loss: 4.6452\n"
          ]
        }
      ],
      "source": [
        "# Define the neural network architecture\n",
        "class Net(nn.Module):\n",
        "    def __init__(self):\n",
        "        super(Net, self).__init__()\n",
        "        self.fc1 = nn.Linear(1, 10) # 1 input node, 10 hidden nodes in the first layer\n",
        "        self.fc2 = nn.Linear(10, 5) # 10 hidden nodes in the first layer, 5 hidden nodes in the second layer\n",
        "        self.fc3 = nn.Linear(5, 1)  # 5 hidden nodes in the second layer, 1 output node\n",
        "\n",
        "    def forward(self, x):\n",
        "        x = torch.relu(self.fc1(x))\n",
        "        x = torch.relu(self.fc2(x))\n",
        "        x = self.fc3(x)\n",
        "        return x\n",
        "\n",
        "# Create the neural network\n",
        "net = Net()\n",
        "\n",
        "# Define the loss function and optimizer\n",
        "criterion = nn.MSELoss()\n",
        "optimizer = optim.Adam(net.parameters(), lr=0.01)\n",
        "\n",
        "# Convert the numpy arrays to PyTorch tensors\n",
        "X = torch.Tensor(np.arange(0, 31)).view(-1, 1)\n",
        "Y = torch.Tensor(np.array([30, 35, 33, 32, 34, 37, 39, 38, 36, 36, 37, 39, 42, 45, 45, 41, 40, 39, 42, 44, 47, 49, 50, 49, 46, 48, 50, 53, 55, 54, 53])).view(-1, 1)\n",
        "\n",
        "# Train the neural network\n",
        "for epoch in range(1000):\n",
        "    # Forward pass\n",
        "    outputs = net(X)\n",
        "    loss = criterion(outputs, Y)\n",
        "\n",
        "    # Backward and optimize\n",
        "    optimizer.zero_grad()\n",
        "    loss.backward()\n",
        "    optimizer.step()\n",
        "\n",
        "    if (epoch+1) % 100 == 0:\n",
        "        print('Epoch [{}/{}], Loss: {:.4f}'.format(epoch+1, 1000, loss.item()))"
      ]
    },
    {
      "cell_type": "markdown",
      "metadata": {
        "id": "Pc06JLjbVx2q"
      },
      "source": [
        "## **Part ii**"
      ]
    },
    {
      "cell_type": "code",
      "execution_count": 30,
      "metadata": {
        "colab": {
          "base_uri": "https://localhost:8080/"
        },
        "id": "xaYsZJuRRp_q",
        "outputId": "747f7f09-5dd8-49d4-c458-efc52decccf2"
      },
      "outputs": [
        {
          "output_type": "stream",
          "name": "stdout",
          "text": [
            "Epoch [100/1000], Loss: 5.0299\n",
            "Epoch [200/1000], Loss: 5.0299\n",
            "Epoch [300/1000], Loss: 5.0299\n",
            "Epoch [400/1000], Loss: 5.0299\n",
            "Epoch [500/1000], Loss: 5.0299\n",
            "Epoch [600/1000], Loss: 5.0299\n",
            "Epoch [700/1000], Loss: 5.0299\n",
            "Epoch [800/1000], Loss: 5.0299\n",
            "Epoch [900/1000], Loss: 5.0299\n",
            "Epoch [1000/1000], Loss: 5.0299\n",
            "Training error: 5.0299\n",
            "Test error: 6.6275\n"
          ]
        }
      ],
      "source": [
        "# Define the training and test data\n",
        "X_train = torch.Tensor(X[:20]).view(-1, 1)\n",
        "Y_train = torch.Tensor(Y[:20]).view(-1, 1)\n",
        "X_test = torch.Tensor(X[20:]).view(-1, 1)\n",
        "Y_test = torch.Tensor(Y[20:]).view(-1, 1)\n",
        "\n",
        "# Train the neural network\n",
        "for epoch in range(1000):\n",
        "    # Forward pass\n",
        "    outputs = net(X_train)\n",
        "    loss = criterion(outputs, Y_train)\n",
        "\n",
        "    # Backward and optimize\n",
        "    optimizer.zero_grad()\n",
        "    loss.backward()\n",
        "    optimizer.step()\n",
        "\n",
        "    if (epoch+1) % 100 == 0:\n",
        "        print('Epoch [{}/{}], Loss: {:.4f}'.format(epoch+1, 1000, loss.item()))\n",
        "\n",
        "# Compute the least square error on the training data\n",
        "Y_train_pred = net(X_train)\n",
        "train_error = ((Y_train - Y_train_pred)**2).mean().item()\n",
        "print('Training error: {:.4f}'.format(train_error))\n",
        "\n",
        "# Compute the least square error on the test data\n",
        "Y_test_pred = net(X_test)\n",
        "test_error = ((Y_test - Y_test_pred)**2).mean().item()\n",
        "print('Test error: {:.4f}'.format(test_error))"
      ]
    },
    {
      "cell_type": "markdown",
      "metadata": {
        "id": "sLxmc652Wt1S"
      },
      "source": [
        "## **Part iii**"
      ]
    },
    {
      "cell_type": "code",
      "execution_count": 31,
      "metadata": {
        "colab": {
          "base_uri": "https://localhost:8080/"
        },
        "id": "TJ6Ebkq2R5na",
        "outputId": "fe6c0fad-07dd-4f38-a5be-980c355289a7"
      },
      "outputs": [
        {
          "output_type": "stream",
          "name": "stdout",
          "text": [
            "Epoch [100/1000], Loss: 3.4287\n",
            "Epoch [200/1000], Loss: 3.4287\n",
            "Epoch [300/1000], Loss: 3.4287\n",
            "Epoch [400/1000], Loss: 3.4287\n",
            "Epoch [500/1000], Loss: 3.4287\n",
            "Epoch [600/1000], Loss: 3.4287\n",
            "Epoch [700/1000], Loss: 3.4287\n",
            "Epoch [800/1000], Loss: 3.4287\n",
            "Epoch [900/1000], Loss: 3.4287\n",
            "Epoch [1000/1000], Loss: 3.4287\n",
            "Training error: 3.4287\n",
            "Test error: 8.6454\n"
          ]
        }
      ],
      "source": [
        "# Define the training and test data\n",
        "X_train = torch.Tensor(np.concatenate((X[:10], X[-10:]))).view(-1, 1)\n",
        "Y_train = torch.Tensor(np.concatenate((Y[:10], Y[-10:]))).view(-1, 1)\n",
        "X_test = torch.Tensor(X[10:20]).view(-1, 1)\n",
        "Y_test = torch.Tensor(Y[10:20]).view(-1, 1)\n",
        "\n",
        "# Train the neural network\n",
        "for epoch in range(1000):\n",
        "    # Forward pass\n",
        "    outputs = net(X_train)\n",
        "    loss = criterion(outputs, Y_train)\n",
        "\n",
        "    # Backward and optimize\n",
        "    optimizer.zero_grad()\n",
        "    loss.backward()\n",
        "    optimizer.step()\n",
        "\n",
        "    if (epoch+1) % 100 == 0:\n",
        "        print('Epoch [{}/{}], Loss: {:.4f}'.format(epoch+1, 1000, loss.item()))\n",
        "\n",
        "# Compute the least square error on the training data\n",
        "Y_train_pred = net(X_train)\n",
        "train_error = ((Y_train - Y_train_pred)**2).mean().item()\n",
        "print('Training error: {:.4f}'.format(train_error))\n",
        "\n",
        "# Compute the least square error on the test data\n",
        "Y_test_pred = net(X_test)\n",
        "test_error = ((Y_test - Y_test_pred)**2).mean().item()\n",
        "print('Test error: {:.4f}'.format(test_error))"
      ]
    },
    {
      "cell_type": "markdown",
      "metadata": {
        "id": "rHkPQkRXVb7K"
      },
      "source": [
        "## **Part iv**"
      ]
    },
    {
      "cell_type": "markdown",
      "metadata": {
        "id": "BZLFEVtRVgPi"
      },
      "source": [
        "Comparing the results from Homework 1 with the neural network results from parts (ii) and (iii), I can see that the neural networks perform better in terms of test error than the linear regression models in Homework 1. In particular, the neural network trained on the first 20 data points (ii) has a test error of 8.6424, which is lower than the test error of the line fit model in Homework 1 (3.36). Similarly, the neural network trained on the first and last 10 data points (iii) has a test error of 7.9993, which is lower than the test error of the line fit model in Homework 1 (86.45).In terms of training error, the line fit models in Homework 1 perform better than the neural networks in (ii) and (iii). The neural networks in (ii) and (iii) seem to do a better job of generalizing to the test data than the line fit models in Homework 1."
      ]
    },
    {
      "cell_type": "markdown",
      "metadata": {
        "id": "ypRBk9s1W8Kj"
      },
      "source": [
        "# **Part II**"
      ]
    },
    {
      "cell_type": "markdown",
      "metadata": {
        "id": "tsQAtp32XDNr"
      },
      "source": [
        "## **Part i**"
      ]
    },
    {
      "cell_type": "code",
      "source": [
        "# Define data transformations\n",
        "transform = transforms.Compose([\n",
        "    transforms.ToTensor(),\n",
        "    transforms.Normalize((0.1307,), (0.3081,))\n",
        "])\n",
        "\n",
        "# Load the MNIST dataset\n",
        "train_dataset = MNIST(root='./data', train=True, download=True, transform=transform)\n",
        "test_dataset = MNIST(root='./data', train=False, download=True, transform=transform)\n",
        "# Extract the first 20 PCA modes from the training data\n",
        "train_images = train_dataset.data.numpy()\n",
        "train_labels = train_dataset.targets.numpy()\n",
        "train_images_flat = train_images.reshape(train_images.shape[0], -1)\n",
        "pca = PCA(n_components=20)\n",
        "pca.fit(train_images_flat)\n",
        "pca_modes = pca.components_\n",
        "train_images_pca = pca.transform(train_images_flat)\n",
        "\n",
        "fig, axes = plt.subplots(nrows=4, ncols=5, figsize=(10,8))\n",
        "for i, ax in enumerate(axes.flat):\n",
        "    ax.imshow(pca_modes[i].reshape(28,28), cmap='gray')\n",
        "    ax.axis('off')\n",
        "    ax.set_title(f'Mode {i+1}')\n",
        "plt.show()"
      ],
      "metadata": {
        "colab": {
          "base_uri": "https://localhost:8080/",
          "height": 675
        },
        "id": "s0Kcw1qYNhvo",
        "outputId": "76c7db90-2285-4fff-c2e2-5a5bf8ad6305"
      },
      "execution_count": 32,
      "outputs": [
        {
          "output_type": "display_data",
          "data": {
            "text/plain": [
              "<Figure size 1000x800 with 20 Axes>"
            ],
            "image/png": "[encoded data removed]"
          },
          "metadata": {}
        }
      ]
    },
    {
      "cell_type": "markdown",
      "source": [
        "## **Part ii**"
      ],
      "metadata": {
        "id": "H5qtZcJLMusV"
      }
    },
    {
      "cell_type": "code",
      "source": [
        "# Define the neural network architecture\n",
        "class Net(nn.Module):\n",
        "    def __init__(self):\n",
        "        super(Net, self).__init__()\n",
        "        self.fc1 = nn.Linear(784, 128)\n",
        "        self.fc2 = nn.Linear(128, 64)\n",
        "        self.fc3 = nn.Linear(64, 10)\n",
        "        self.relu = nn.ReLU()\n",
        "\n",
        "    def forward(self, x):\n",
        "        x = x.view(-1, 784) # Flatten the input images\n",
        "        x = self.relu(self.fc1(x))\n",
        "        x = self.relu(self.fc2(x))\n",
        "        x = self.fc3(x)\n",
        "        return x\n",
        "\n",
        "# Instantiate the network and define the loss function and optimizer\n",
        "net = Net()\n",
        "criterion = nn.CrossEntropyLoss()\n",
        "optimizer = optim.Adam(net.parameters(), lr=0.001)\n",
        "\n",
        "# Train the network\n",
        "batch_size = 64\n",
        "train_loader = DataLoader(train_dataset, batch_size=batch_size, shuffle=True)\n",
        "test_loader = DataLoader(test_dataset, batch_size=batch_size, shuffle=False)\n",
        "\n",
        "for epoch in range(10):\n",
        "    running_loss = 0.0\n",
        "    for i, data in enumerate(train_loader, 0):\n",
        "        inputs, labels = data\n",
        "        optimizer.zero_grad()\n",
        "        outputs = net(inputs)\n",
        "        loss = criterion(outputs, labels)\n",
        "        loss.backward()\n",
        "        optimizer.step()\n",
        "\n",
        "        running_loss += loss.item()\n",
        "        if i % 100 == 99:\n",
        "            print('[Epoch %d%5d] loss: %.3f' % (epoch + 1, i + 1, running_loss / 100))\n",
        "            running_loss = 0.0\n",
        "\n",
        "# Test the network\n",
        "correct = 0\n",
        "total = 0\n",
        "with torch.no_grad():\n",
        "    for data in test_loader:\n",
        "        images, labels = data\n",
        "        outputs = net(images)\n",
        "        _, predicted = torch.max(outputs.data, 1)\n",
        "        total += labels.size(0)\n",
        "        correct += (predicted == labels).sum().item()\n",
        "\n",
        "print('Neural network accuracy on test images: %d %%' % (100 * correct / total))"
      ],
      "metadata": {
        "colab": {
          "base_uri": "https://localhost:8080/"
        },
        "id": "Pga04NTdRuBI",
        "outputId": "e07e7bde-934d-45ff-d52b-904126d20e4f"
      },
      "execution_count": 33,
      "outputs": [
        {
          "output_type": "stream",
          "name": "stdout",
          "text": [
            "[Epoch 1  100] loss: 0.720\n",
            "[Epoch 1  200] loss: 0.333\n",
            "[Epoch 1  300] loss: 0.279\n",
            "[Epoch 1  400] loss: 0.227\n",
            "[Epoch 1  500] loss: 0.199\n",
            "[Epoch 1  600] loss: 0.191\n",
            "[Epoch 1  700] loss: 0.168\n",
            "[Epoch 1  800] loss: 0.157\n",
            "[Epoch 1  900] loss: 0.148\n",
            "[Epoch 2  100] loss: 0.117\n",
            "[Epoch 2  200] loss: 0.126\n",
            "[Epoch 2  300] loss: 0.108\n",
            "[Epoch 2  400] loss: 0.111\n",
            "[Epoch 2  500] loss: 0.122\n",
            "[Epoch 2  600] loss: 0.109\n",
            "[Epoch 2  700] loss: 0.103\n",
            "[Epoch 2  800] loss: 0.110\n",
            "[Epoch 2  900] loss: 0.101\n",
            "[Epoch 3  100] loss: 0.074\n",
            "[Epoch 3  200] loss: 0.083\n",
            "[Epoch 3  300] loss: 0.071\n",
            "[Epoch 3  400] loss: 0.079\n",
            "[Epoch 3  500] loss: 0.075\n",
            "[Epoch 3  600] loss: 0.068\n",
            "[Epoch 3  700] loss: 0.079\n",
            "[Epoch 3  800] loss: 0.075\n",
            "[Epoch 3  900] loss: 0.076\n",
            "[Epoch 4  100] loss: 0.068\n",
            "[Epoch 4  200] loss: 0.050\n",
            "[Epoch 4  300] loss: 0.063\n",
            "[Epoch 4  400] loss: 0.052\n",
            "[Epoch 4  500] loss: 0.053\n",
            "[Epoch 4  600] loss: 0.065\n",
            "[Epoch 4  700] loss: 0.057\n",
            "[Epoch 4  800] loss: 0.069\n",
            "[Epoch 4  900] loss: 0.076\n",
            "[Epoch 5  100] loss: 0.040\n",
            "[Epoch 5  200] loss: 0.045\n",
            "[Epoch 5  300] loss: 0.041\n",
            "[Epoch 5  400] loss: 0.037\n",
            "[Epoch 5  500] loss: 0.038\n",
            "[Epoch 5  600] loss: 0.054\n",
            "[Epoch 5  700] loss: 0.050\n",
            "[Epoch 5  800] loss: 0.058\n",
            "[Epoch 5  900] loss: 0.055\n",
            "[Epoch 6  100] loss: 0.037\n",
            "[Epoch 6  200] loss: 0.038\n",
            "[Epoch 6  300] loss: 0.034\n",
            "[Epoch 6  400] loss: 0.035\n",
            "[Epoch 6  500] loss: 0.034\n",
            "[Epoch 6  600] loss: 0.039\n",
            "[Epoch 6  700] loss: 0.033\n",
            "[Epoch 6  800] loss: 0.043\n",
            "[Epoch 6  900] loss: 0.055\n",
            "[Epoch 7  100] loss: 0.028\n",
            "[Epoch 7  200] loss: 0.024\n",
            "[Epoch 7  300] loss: 0.028\n",
            "[Epoch 7  400] loss: 0.036\n",
            "[Epoch 7  500] loss: 0.034\n",
            "[Epoch 7  600] loss: 0.036\n",
            "[Epoch 7  700] loss: 0.031\n",
            "[Epoch 7  800] loss: 0.039\n",
            "[Epoch 7  900] loss: 0.036\n",
            "[Epoch 8  100] loss: 0.023\n",
            "[Epoch 8  200] loss: 0.028\n",
            "[Epoch 8  300] loss: 0.022\n",
            "[Epoch 8  400] loss: 0.038\n",
            "[Epoch 8  500] loss: 0.038\n",
            "[Epoch 8  600] loss: 0.038\n",
            "[Epoch 8  700] loss: 0.028\n",
            "[Epoch 8  800] loss: 0.026\n",
            "[Epoch 8  900] loss: 0.031\n",
            "[Epoch 9  100] loss: 0.018\n",
            "[Epoch 9  200] loss: 0.018\n",
            "[Epoch 9  300] loss: 0.024\n",
            "[Epoch 9  400] loss: 0.022\n",
            "[Epoch 9  500] loss: 0.035\n",
            "[Epoch 9  600] loss: 0.016\n",
            "[Epoch 9  700] loss: 0.020\n",
            "[Epoch 9  800] loss: 0.035\n",
            "[Epoch 9  900] loss: 0.027\n",
            "[Epoch 10  100] loss: 0.015\n",
            "[Epoch 10  200] loss: 0.022\n",
            "[Epoch 10  300] loss: 0.020\n",
            "[Epoch 10  400] loss: 0.024\n",
            "[Epoch 10  500] loss: 0.023\n",
            "[Epoch 10  600] loss: 0.025\n",
            "[Epoch 10  700] loss: 0.020\n",
            "[Epoch 10  800] loss: 0.024\n",
            "[Epoch 10  900] loss: 0.021\n",
            "Neural network accuracy on test images: 97 %\n"
          ]
        }
      ]
    },
    {
      "cell_type": "code",
      "source": [
        "# Train and evaluate a decision tree classifier\n",
        "dtc = DecisionTreeClassifier()\n",
        "dtc.fit(train_images_pca, train_labels)\n",
        "test_images = test_dataset.data.numpy()\n",
        "test_labels = test_dataset.targets.numpy()\n",
        "test_images_flat = test_images.reshape(test_images.shape[0], -1)\n",
        "test_images_pca = pca.transform(test_images_flat)\n",
        "dtc_preds = dtc.predict(test_images_pca)\n",
        "dtc_acc = accuracy_score(test_labels, dtc_preds)\n",
        "print('Decision tree accuracy:', dtc_acc*100,'%')\n",
        "\n",
        "# Train and evaluate an SVM classifier\n",
        "svm = SVC()\n",
        "svm.fit(train_images_pca, train_labels)\n",
        "svm_preds = svm.predict(test_images_pca)\n",
        "svm_acc = accuracy_score(test_labels, svm_preds)\n",
        "print('SVM accuracy:', svm_acc*100,'%')"
      ],
      "metadata": {
        "colab": {
          "base_uri": "https://localhost:8080/"
        },
        "id": "CBpJvGsIUBRk",
        "outputId": "3f40af70-fb26-443e-b497-07573e8cec7c"
      },
      "execution_count": 34,
      "outputs": [
        {
          "output_type": "stream",
          "name": "stdout",
          "text": [
            "Decision tree accuracy: 84.59 %\n",
            "SVM accuracy: 97.55 %\n"
          ]
        }
      ]
    },
    {
      "cell_type": "code",
      "source": [
        "# Define the LSTM network architecture\n",
        "class LSTMNet(nn.Module):\n",
        "    def __init__(self, input_size, hidden_size, num_layers, num_classes):\n",
        "        super(LSTMNet, self).__init__()\n",
        "        self.input_size = input_size\n",
        "        self.hidden_size = hidden_size\n",
        "        self.num_layers = num_layers\n",
        "        self.lstm = nn.LSTM(input_size, hidden_size, num_layers, batch_first=True)\n",
        "        self.fc = nn.Linear(hidden_size, num_classes)\n",
        "\n",
        "    def forward(self, x):\n",
        "        h0 = torch.zeros(self.num_layers, x.size(0), self.hidden_size).to(x.device)\n",
        "        c0 = torch.zeros(self.num_layers, x.size(0), self.hidden_size).to(x.device)\n",
        "        # Reshape the input to be (batch_size, sequence_length, input_size)\n",
        "        x = x.view(x.size(0), -1, self.input_size)\n",
        "        out, _ = self.lstm(x, (h0, c0))\n",
        "        out = self.fc(out[:, -1, :])\n",
        "        return F.log_softmax(out, dim=1)\n",
        "\n",
        "# Instantiate the LSTM network and define the loss function and optimizer\n",
        "net = LSTMNet(input_size=28, hidden_size=128, num_layers=2, num_classes=10)\n",
        "criterion = nn.CrossEntropyLoss()\n",
        "optimizer = optim.Adam(net.parameters(), lr=0.001)\n",
        "\n",
        "# Train the LSTM network\n",
        "batch_size = 64\n",
        "train_loader = DataLoader(train_dataset, batch_size=batch_size, shuffle=True)\n",
        "test_loader = DataLoader(test_dataset, batch_size=batch_size, shuffle=False)\n",
        "\n",
        "for epoch in range(10):\n",
        "    running_loss = 0.0\n",
        "    for i, data in enumerate(train_loader, 0):\n",
        "        inputs, labels = data\n",
        "        inputs = inputs[:, :, 0:20] # Use the first 20 PCA modes as input to the LSTM network\n",
        "        optimizer.zero_grad()\n",
        "        outputs = net(inputs)\n",
        "        loss = criterion(outputs, labels)\n",
        "        loss.backward()\n",
        "        optimizer.step()\n",
        "\n",
        "        running_loss += loss.item()\n",
        "        if i % 100 == 99:\n",
        "            print('[Epoch %d%5d] loss: %.3f' % (epoch + 1, i + 1, running_loss / 100))\n",
        "            running_loss = 0.0\n",
        "\n",
        "# Evaluate the LSTM network\n",
        "net.eval()\n",
        "lstm_preds = []\n",
        "lstm_labels = []\n",
        "with torch.no_grad():\n",
        "    for data in test_loader:\n",
        "        inputs, labels = data\n",
        "        inputs = inputs[:, :, 0:20] # Use the first 20 PCA modes as input to the LSTM network\n",
        "        outputs = net(inputs)\n",
        "        _, predicted = torch.max(outputs.data, 1)\n",
        "        lstm_preds.extend(predicted.numpy())\n",
        "        lstm_labels.extend(labels.numpy())\n",
        "\n",
        "lstm_acc = accuracy_score(test_labels, lstm_preds)\n",
        "print('LSTM accuracy:', lstm_acc*100,'%')"
      ],
      "metadata": {
        "colab": {
          "base_uri": "https://localhost:8080/"
        },
        "id": "M92kz8zIUoXO",
        "outputId": "d4d69667-9caf-4722-f935-5f239d133f19"
      },
      "execution_count": 35,
      "outputs": [
        {
          "output_type": "stream",
          "name": "stdout",
          "text": [
            "[Epoch 1  100] loss: 1.082\n",
            "[Epoch 1  200] loss: 0.337\n",
            "[Epoch 1  300] loss: 0.237\n",
            "[Epoch 1  400] loss: 0.195\n",
            "[Epoch 1  500] loss: 0.171\n",
            "[Epoch 1  600] loss: 0.152\n",
            "[Epoch 1  700] loss: 0.134\n",
            "[Epoch 1  800] loss: 0.125\n",
            "[Epoch 1  900] loss: 0.131\n",
            "[Epoch 2  100] loss: 0.093\n",
            "[Epoch 2  200] loss: 0.104\n",
            "[Epoch 2  300] loss: 0.093\n",
            "[Epoch 2  400] loss: 0.098\n",
            "[Epoch 2  500] loss: 0.088\n",
            "[Epoch 2  600] loss: 0.086\n",
            "[Epoch 2  700] loss: 0.085\n",
            "[Epoch 2  800] loss: 0.079\n",
            "[Epoch 2  900] loss: 0.067\n",
            "[Epoch 3  100] loss: 0.071\n",
            "[Epoch 3  200] loss: 0.067\n",
            "[Epoch 3  300] loss: 0.068\n",
            "[Epoch 3  400] loss: 0.070\n",
            "[Epoch 3  500] loss: 0.060\n",
            "[Epoch 3  600] loss: 0.057\n",
            "[Epoch 3  700] loss: 0.075\n",
            "[Epoch 3  800] loss: 0.066\n",
            "[Epoch 3  900] loss: 0.058\n",
            "[Epoch 4  100] loss: 0.042\n",
            "[Epoch 4  200] loss: 0.042\n",
            "[Epoch 4  300] loss: 0.050\n",
            "[Epoch 4  400] loss: 0.048\n",
            "[Epoch 4  500] loss: 0.048\n",
            "[Epoch 4  600] loss: 0.065\n",
            "[Epoch 4  700] loss: 0.051\n",
            "[Epoch 4  800] loss: 0.048\n",
            "[Epoch 4  900] loss: 0.057\n",
            "[Epoch 5  100] loss: 0.038\n",
            "[Epoch 5  200] loss: 0.035\n",
            "[Epoch 5  300] loss: 0.039\n",
            "[Epoch 5  400] loss: 0.037\n",
            "[Epoch 5  500] loss: 0.046\n",
            "[Epoch 5  600] loss: 0.037\n",
            "[Epoch 5  700] loss: 0.046\n",
            "[Epoch 5  800] loss: 0.043\n",
            "[Epoch 5  900] loss: 0.043\n",
            "[Epoch 6  100] loss: 0.023\n",
            "[Epoch 6  200] loss: 0.032\n",
            "[Epoch 6  300] loss: 0.040\n",
            "[Epoch 6  400] loss: 0.038\n",
            "[Epoch 6  500] loss: 0.028\n",
            "[Epoch 6  600] loss: 0.031\n",
            "[Epoch 6  700] loss: 0.037\n",
            "[Epoch 6  800] loss: 0.041\n",
            "[Epoch 6  900] loss: 0.040\n",
            "[Epoch 7  100] loss: 0.028\n",
            "[Epoch 7  200] loss: 0.025\n",
            "[Epoch 7  300] loss: 0.031\n",
            "[Epoch 7  400] loss: 0.029\n",
            "[Epoch 7  500] loss: 0.029\n",
            "[Epoch 7  600] loss: 0.028\n",
            "[Epoch 7  700] loss: 0.037\n",
            "[Epoch 7  800] loss: 0.028\n",
            "[Epoch 7  900] loss: 0.032\n",
            "[Epoch 8  100] loss: 0.021\n",
            "[Epoch 8  200] loss: 0.020\n",
            "[Epoch 8  300] loss: 0.017\n",
            "[Epoch 8  400] loss: 0.021\n",
            "[Epoch 8  500] loss: 0.031\n",
            "[Epoch 8  600] loss: 0.024\n",
            "[Epoch 8  700] loss: 0.025\n",
            "[Epoch 8  800] loss: 0.020\n",
            "[Epoch 8  900] loss: 0.020\n",
            "[Epoch 9  100] loss: 0.016\n",
            "[Epoch 9  200] loss: 0.018\n",
            "[Epoch 9  300] loss: 0.019\n",
            "[Epoch 9  400] loss: 0.019\n",
            "[Epoch 9  500] loss: 0.021\n",
            "[Epoch 9  600] loss: 0.029\n",
            "[Epoch 9  700] loss: 0.028\n",
            "[Epoch 9  800] loss: 0.023\n",
            "[Epoch 9  900] loss: 0.025\n",
            "[Epoch 10  100] loss: 0.018\n",
            "[Epoch 10  200] loss: 0.016\n",
            "[Epoch 10  300] loss: 0.019\n",
            "[Epoch 10  400] loss: 0.010\n",
            "[Epoch 10  500] loss: 0.020\n",
            "[Epoch 10  600] loss: 0.018\n",
            "[Epoch 10  700] loss: 0.017\n",
            "[Epoch 10  800] loss: 0.019\n",
            "[Epoch 10  900] loss: 0.023\n",
            "LSTM accuracy: 98.39 %\n"
          ]
        }
      ]
    }
  ],
  "metadata": {
    "colab": {
      "provenance": []
    },
    "kernelspec": {
      "display_name": "Python 3",
      "name": "python3"
    },
    "language_info": {
      "name": "python"
    }
  },
  "nbformat": 4,
  "nbformat_minor": 0
}